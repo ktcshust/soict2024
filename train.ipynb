{
 "cells": [
  {
   "cell_type": "code",
   "execution_count": 1,
   "metadata": {},
   "outputs": [
    {
     "name": "stdout",
     "output_type": "stream",
     "text": [
      "Looking in indexes: https://download.pytorch.org/whl/cu123Note: you may need to restart the kernel to use updated packages.\n"
     ]
    },
    {
     "name": "stderr",
     "output_type": "stream",
     "text": [
      "\n",
      "[notice] A new release of pip is available: 24.0 -> 24.3.1\n",
      "[notice] To update, run: python.exe -m pip install --upgrade pip\n"
     ]
    },
    {
     "name": "stdout",
     "output_type": "stream",
     "text": [
      "\n",
      "Requirement already satisfied: torch in c:\\users\\admin\\appdata\\local\\programs\\python\\python312\\lib\\site-packages (2.3.1+cu118)\n",
      "Requirement already satisfied: torchvision in c:\\users\\admin\\appdata\\local\\programs\\python\\python312\\lib\\site-packages (0.18.1)\n",
      "Requirement already satisfied: torchaudio in c:\\users\\admin\\appdata\\local\\programs\\python\\python312\\lib\\site-packages (2.3.1+cu118)\n",
      "Requirement already satisfied: filelock in c:\\users\\admin\\appdata\\local\\programs\\python\\python312\\lib\\site-packages (from torch) (3.15.1)\n",
      "Requirement already satisfied: typing-extensions>=4.8.0 in c:\\users\\admin\\appdata\\local\\programs\\python\\python312\\lib\\site-packages (from torch) (4.11.0)\n",
      "Requirement already satisfied: sympy in c:\\users\\admin\\appdata\\local\\programs\\python\\python312\\lib\\site-packages (from torch) (1.12.1)\n",
      "Requirement already satisfied: networkx in c:\\users\\admin\\appdata\\local\\programs\\python\\python312\\lib\\site-packages (from torch) (3.3)\n",
      "Requirement already satisfied: jinja2 in c:\\users\\admin\\appdata\\local\\programs\\python\\python312\\lib\\site-packages (from torch) (3.1.4)\n",
      "Requirement already satisfied: fsspec in c:\\users\\admin\\appdata\\local\\programs\\python\\python312\\lib\\site-packages (from torch) (2024.6.0)\n",
      "Requirement already satisfied: mkl<=2021.4.0,>=2021.1.1 in c:\\users\\admin\\appdata\\local\\programs\\python\\python312\\lib\\site-packages (from torch) (2021.4.0)\n",
      "Requirement already satisfied: numpy in c:\\users\\admin\\appdata\\local\\programs\\python\\python312\\lib\\site-packages (from torchvision) (1.26.4)\n",
      "Requirement already satisfied: pillow!=8.3.*,>=5.3.0 in c:\\users\\admin\\appdata\\local\\programs\\python\\python312\\lib\\site-packages (from torchvision) (10.3.0)\n",
      "Requirement already satisfied: intel-openmp==2021.* in c:\\users\\admin\\appdata\\local\\programs\\python\\python312\\lib\\site-packages (from mkl<=2021.4.0,>=2021.1.1->torch) (2021.4.0)\n",
      "Requirement already satisfied: tbb==2021.* in c:\\users\\admin\\appdata\\local\\programs\\python\\python312\\lib\\site-packages (from mkl<=2021.4.0,>=2021.1.1->torch) (2021.12.0)\n",
      "Requirement already satisfied: MarkupSafe>=2.0 in c:\\users\\admin\\appdata\\local\\programs\\python\\python312\\lib\\site-packages (from jinja2->torch) (2.1.5)\n",
      "Requirement already satisfied: mpmath<1.4.0,>=1.1.0 in c:\\users\\admin\\appdata\\local\\programs\\python\\python312\\lib\\site-packages (from sympy->torch) (1.3.0)\n"
     ]
    }
   ],
   "source": [
    "pip install torch torchvision torchaudio --index-url https://download.pytorch.org/whl/cu123"
   ]
  },
  {
   "cell_type": "code",
   "execution_count": 2,
   "metadata": {},
   "outputs": [
    {
     "name": "stderr",
     "output_type": "stream",
     "text": [
      "c:\\Users\\Admin\\AppData\\Local\\Programs\\Python\\Python312\\Lib\\site-packages\\tqdm\\auto.py:21: TqdmWarning: IProgress not found. Please update jupyter and ipywidgets. See https://ipywidgets.readthedocs.io/en/stable/user_install.html\n",
      "  from .autonotebook import tqdm as notebook_tqdm\n"
     ]
    }
   ],
   "source": [
    "import torch\n",
    "import torch.nn.functional as F\n",
    "import numpy as np\n",
    "from torch.utils.data import Dataset, DataLoader\n",
    "from transformers import AutoTokenizer, AutoModel\n",
    "from sklearn.metrics.pairwise import cosine_similarity\n",
    "import pandas as pd\n",
    "corpus_df = pd.read_csv('corpus.csv')\n",
    "train_df = pd.read_csv('train.csv')"
   ]
  },
  {
   "cell_type": "code",
   "execution_count": 3,
   "metadata": {},
   "outputs": [],
   "source": [
    "train_df['cid'] = train_df['cid'].apply(lambda x: list(map(int, x.strip('[]').split())))"
   ]
  },
  {
   "cell_type": "code",
   "execution_count": null,
   "metadata": {},
   "outputs": [
    {
     "name": "stderr",
     "output_type": "stream",
     "text": [
      "c:\\Users\\Admin\\AppData\\Local\\Programs\\Python\\Python312\\Lib\\site-packages\\huggingface_hub\\file_download.py:1132: FutureWarning: `resume_download` is deprecated and will be removed in version 1.0.0. Downloads always resume when possible. If you want to force a new download, use `force_download=True`.\n",
      "  warnings.warn(\n"
     ]
    }
   ],
   "source": [
    "import torch\n",
    "import numpy as np\n",
    "import torch.nn.functional as F\n",
    "from torch.utils.data import Dataset, DataLoader\n",
    "from sentence_transformers import SentenceTransformer\n",
    "from sklearn.metrics.pairwise import cosine_similarity\n",
    "from sentence_transformers.util import cos_sim\n",
    "\n",
    "class CustomDataset(Dataset):\n",
    "    def __init__(self, train_df, corpus_df, model, max_length=128):\n",
    "        self.train_df = train_df\n",
    "        self.corpus_df = corpus_df\n",
    "        self.model = model\n",
    "        self.max_length = max_length\n",
    "\n",
    "    def __len__(self):\n",
    "        return len(self.train_df)\n",
    "\n",
    "    def __getitem__(self, idx):\n",
    "        row = self.train_df.iloc[idx]\n",
    "        question = row['question']\n",
    "        qid = row['qid']\n",
    "        positive_cids = row['cid']  # Danh sách CID tích cực\n",
    "\n",
    "        # Lấy corpus tích cực\n",
    "        positive_corpus = self.corpus_df[self.corpus_df['cid'].isin(positive_cids)]['text'].tolist()\n",
    "\n",
    "        # Chọn hard negatives\n",
    "        hard_negatives = self.get_hard_negatives(positive_cids, positive_corpus)\n",
    "\n",
    "        # Encode câu hỏi và các corpus\n",
    "        query_enc = self.model.encode(question, convert_to_tensor=True)\n",
    "        positive_encs = [self.model.encode(pos, convert_to_tensor=True) for pos in positive_corpus]\n",
    "        negative_encs = self.model.encode(hard_negatives, convert_to_tensor=True)\n",
    "\n",
    "        return {\n",
    "            'query': query_enc,\n",
    "            'positives': positive_encs,  # Trả về danh sách embeddings tích cực\n",
    "            'negatives': negative_encs,\n",
    "        }\n",
    "\n",
    "    def get_hard_negatives(self, positive_cids, positive_corpus, top_k=10):\n",
    "        # Lấy tất cả các CID không phải là positive\n",
    "        all_cids = set(self.corpus_df['cid'].tolist())\n",
    "        negative_cids = list(all_cids - set(positive_cids))\n",
    "\n",
    "        # Encode các corpus tích cực\n",
    "        positive_embeddings = self.model.encode(positive_corpus, convert_to_tensor=True)\n",
    "\n",
    "        # Lấy corpus của các negative cids\n",
    "        negative_corpus = self.corpus_df[self.corpus_df['cid'].isin(negative_cids)]['text'].tolist()\n",
    "\n",
    "        # Encode các corpus negative\n",
    "        negative_embeddings = self.model.encode(negative_corpus, convert_to_tensor=True)\n",
    "\n",
    "        similarities = cos_sim(positive_embeddings, negative_embeddings)\n",
    "\n",
    "        # Chọn top k hard negatives (có độ tương đồng cao nhất)\n",
    "        top_hard_negatives = []\n",
    "        for sim in similarities:\n",
    "            # Lấy các chỉ số của top k negative corpus có độ tương đồng cao nhất\n",
    "            top_k_idx = np.argsort(sim.cpu().numpy())[-top_k:]\n",
    "            top_hard_negatives.extend([negative_corpus[idx] for idx in top_k_idx])\n",
    "\n",
    "        return top_hard_negatives\n",
    "\n",
    "# Sửa lại loss function\n",
    "def contrastive_loss(query_embeddings, positive_embeddings_list, negative_embeddings, margin=1.0):\n",
    "    total_pos_loss = 0\n",
    "    for positive_embeddings in positive_embeddings_list:\n",
    "        pos_loss = F.pairwise_distance(query_embeddings, positive_embeddings, p=2)\n",
    "        total_pos_loss += pos_loss\n",
    "\n",
    "    # Tính trung bình loss cho tất cả positives\n",
    "    avg_pos_loss = total_pos_loss / len(positive_embeddings_list)\n",
    "    neg_loss = F.pairwise_distance(query_embeddings, negative_embeddings, p=2)\n",
    "\n",
    "    # Contrastive loss\n",
    "    loss = F.relu(avg_pos_loss - neg_loss + margin).mean()\n",
    "    return loss\n",
    "\n",
    "from sentence_transformers import SentenceTransformer, models\n",
    "\n",
    "# Load PhoBERT và cấu hình mean pooling\n",
    "word_embedding_model = models.Transformer(\"vinai/phobert-base\", max_seq_length=128)\n",
    "pooling_model = models.Pooling(word_embedding_model.get_word_embedding_dimension(), pooling_mode_mean_tokens=True)\n",
    "model = SentenceTransformer(modules=[word_embedding_model, pooling_model])\n",
    "\n",
    "device = \"cuda\" if torch.cuda.is_available() else \"cpu\"\n",
    "model.to(device)\n",
    "\n",
    "\n",
    "\n",
    "# Tạo Dataset và DataLoader\n",
    "dataset = CustomDataset(train_df, corpus_df, model)\n",
    "dataloader = DataLoader(dataset, batch_size=2)\n",
    "\n",
    "# Optimizer\n",
    "optimizer = torch.optim.AdamW(model.parameters(), lr=1e-5)\n",
    "\n",
    "# Training Loop đã sửa\n",
    "for epoch in range(5):\n",
    "    model.train()\n",
    "    epoch_loss = 0\n",
    "    for batch in dataloader:\n",
    "        query_embeddings = batch['query'].to(device)\n",
    "        positive_embeddings_list = [emb.to(device) for emb in batch['positives']]\n",
    "        negative_embeddings = batch['negative'].to(device)\n",
    "\n",
    "        # Tính loss\n",
    "        loss = contrastive_loss(query_embeddings, positive_embeddings_list, negative_embeddings)\n",
    "        epoch_loss += loss.item()\n",
    "\n",
    "        # Backward pass\n",
    "        optimizer.zero_grad()\n",
    "        loss.backward()\n",
    "        optimizer.step()\n",
    "\n",
    "    print(f\"Epoch {epoch+1}, Loss: {epoch_loss / len(dataloader):.4f}\")\n"
   ]
  }
 ],
 "metadata": {
  "kernelspec": {
   "display_name": "Python 3",
   "language": "python",
   "name": "python3"
  },
  "language_info": {
   "codemirror_mode": {
    "name": "ipython",
    "version": 3
   },
   "file_extension": ".py",
   "mimetype": "text/x-python",
   "name": "python",
   "nbconvert_exporter": "python",
   "pygments_lexer": "ipython3",
   "version": "3.12.3"
  }
 },
 "nbformat": 4,
 "nbformat_minor": 2
}
